{
 "cells": [
  {
   "cell_type": "code",
   "execution_count": 21,
   "id": "af7e94f1-1be4-47e8-9e58-191d3751b371",
   "metadata": {},
   "outputs": [],
   "source": [
    "import os\n",
    "import time\n",
    "from colorama import init, Fore\n",
    "import paramiko\n",
    "import json\n",
    "import time"
   ]
  },
  {
   "cell_type": "code",
   "execution_count": 22,
   "id": "d9ffb48c-4827-4641-b7ef-ae280942903a",
   "metadata": {},
   "outputs": [],
   "source": [
    "green = Fore.GREEN\n",
    "red = Fore.RED\n",
    "yellow = Fore.YELLOW\n",
    "blue = Fore.BLUE\n",
    "purple = Fore.MAGENTA\n",
    "reset = Fore.RESET"
   ]
  },
  {
   "cell_type": "code",
   "execution_count": 23,
   "id": "339d5355-8c4c-45ea-ba91-a61f2b5abe9f",
   "metadata": {},
   "outputs": [],
   "source": [
    "def error(mode, string):\n",
    "    if mode == 'p':\n",
    "        string = red + string + reset\n",
    "        print(string)\n",
    "        return string\n",
    "    if mode == 'i':\n",
    "        string = red + string + reset\n",
    "        opt = input(string)\n",
    "        return opt\n",
    "    \n",
    "def success(mode, string):\n",
    "    if mode == 'p':\n",
    "        string = green + string + reset\n",
    "        print(string)\n",
    "        return string\n",
    "    if mode == 'i':\n",
    "        string = green + string + reset\n",
    "        opt = input(string)\n",
    "        return opt\n",
    "\n",
    "def message(mode, string):\n",
    "    if mode == 'p':\n",
    "        string = blue + string + reset\n",
    "        print(string)\n",
    "        return string\n",
    "    if mode == 'i':\n",
    "        string = blue + string + reset\n",
    "        opt = input(string)\n",
    "        return opt"
   ]
  },
  {
   "cell_type": "code",
   "execution_count": 24,
   "id": "738094ce-86eb-4aa6-87a6-05d26ddec18f",
   "metadata": {},
   "outputs": [],
   "source": [
    "def is_open(host, usr, passwd):\n",
    "    client = paramiko.SSHClient()\n",
    "    \n",
    "    client.set_missing_host_key_policy(paramiko.AutoAddPolicy())\n",
    "\n",
    "    try:\n",
    "        client.connect(host, username=usr, password=passwd, timeout = 5)\n",
    "        success('p', 'Success: \\nusername = {} \\npassword = {}'.format(usr, passwd))\n",
    "        client.close()\n",
    "        return True\n",
    "    except paramiko.AuthenticationException:\n",
    "        error('p', 'Connection refused\\nusername = {}\\npasswords = {}'.format(usr, passwd))\n",
    "        return False"
   ]
  },
  {
   "cell_type": "code",
   "execution_count": 25,
   "id": "1f46526b-e67c-4455-99bb-fa94498833c4",
   "metadata": {},
   "outputs": [],
   "source": [
    "connections = {}\n",
    "default_file = {'hosts': [], 'usrs': [], 'passwds': []}"
   ]
  },
  {
   "cell_type": "code",
   "execution_count": 26,
   "id": "5af10ddc-1f72-40bb-8e4d-b71a55c0fe28",
   "metadata": {},
   "outputs": [
    {
     "name": "stdout",
     "output_type": "stream",
     "text": [
      "\u001b[34mFound 1 hosts\u001b[39m\n",
      "\u001b[34mFound 3 usrs\u001b[39m\n",
      "\u001b[34mFound 2 passwds\u001b[39m\n"
     ]
    }
   ],
   "source": [
    "if not os.path.exists('hosts.json'):\n",
    "    with open('hosts.json', 'w') as f:\n",
    "        json.dump(default_file, f)\n",
    "        error('p', 'hosts.json not exists. Creating one...')\n",
    "        message('p', 'Insert values in hosts.json and restart.')\n",
    "        exit()\n",
    "else:\n",
    "    with open('hosts.json', 'r') as f:\n",
    "        connections = json.load(f)\n",
    "        if connections == default_file:\n",
    "            error('p', 'Insert data in hosts.json')\n",
    "            exit()\n",
    "        else:\n",
    "            for i in connections:\n",
    "                if len(connections[i]) == 0:\n",
    "                    error('p', 'Insert {}'.format(i))\n",
    "                    exit()\n",
    "                else:\n",
    "                    message('p', 'Found {} {}'.format(len(connections[i]), i))\n",
    "            hosts = connections['hosts']\n",
    "            usrs = connections['usrs']\n",
    "            passwds = connections['passwds']"
   ]
  },
  {
   "cell_type": "code",
   "execution_count": 27,
   "id": "aefc5c59-c9e8-44f3-bb21-c2600ab305e2",
   "metadata": {},
   "outputs": [
    {
     "name": "stdout",
     "output_type": "stream",
     "text": [
      "\u001b[32mSuccess: \n",
      "username = root \n",
      "password = sch1@pp@05\u001b[39m\n",
      "\u001b[31mConnection refused\n",
      "username = root\n",
      "passwords = suca\u001b[39m\n",
      "\u001b[32mSuccess: \n",
      "username = dietpi \n",
      "password = sch1@pp@05\u001b[39m\n",
      "\u001b[31mConnection refused\n",
      "username = dietpi\n",
      "passwords = suca\u001b[39m\n",
      "\u001b[31mConnection refused\n",
      "username = suca\n",
      "passwords = sch1@pp@05\u001b[39m\n",
      "\u001b[31mConnection refused\n",
      "username = suca\n",
      "passwords = suca\u001b[39m\n"
     ]
    }
   ],
   "source": [
    "for host in hosts:\n",
    "    for usr in usrs:\n",
    "        for passwd in passwds:\n",
    "            if is_open(host, usr, passwd):\n",
    "                pass\n",
    "                time.spleep(1)"
   ]
  }
 ],
 "metadata": {
  "kernelspec": {
   "display_name": "Python 3 (ipykernel)",
   "language": "python",
   "name": "python3"
  },
  "language_info": {
   "codemirror_mode": {
    "name": "ipython",
    "version": 3
   },
   "file_extension": ".py",
   "mimetype": "text/x-python",
   "name": "python",
   "nbconvert_exporter": "python",
   "pygments_lexer": "ipython3",
   "version": "3.9.9"
  }
 },
 "nbformat": 4,
 "nbformat_minor": 5
}
